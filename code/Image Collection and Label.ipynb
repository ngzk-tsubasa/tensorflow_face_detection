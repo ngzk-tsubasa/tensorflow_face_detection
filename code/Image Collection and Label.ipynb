{
 "cells": [
  {
   "cell_type": "code",
   "execution_count": 1,
   "metadata": {},
   "outputs": [],
   "source": [
    "import cv2 \n",
    "import uuid\n",
    "import os\n",
    "import time"
   ]
  },
  {
   "cell_type": "code",
   "execution_count": 2,
   "metadata": {},
   "outputs": [],
   "source": [
    "labels = ['LI_CHIH_HSUAN','Saitou_Asuka', 'hori_miona', 'nishino_nanase']\n",
    "number_imgs = 5"
   ]
  },
  {
   "cell_type": "code",
   "execution_count": 3,
   "metadata": {},
   "outputs": [],
   "source": [
    "image_path = os.path.join('Tensorflow', 'workspace', 'images', 'collectedimages')"
   ]
  },
  {
   "cell_type": "code",
   "execution_count": 19,
   "metadata": {},
   "outputs": [],
   "source": [
    "if not os.path.exists(image_path):\n",
    "    !mkdir {image_path}\n",
    "  \n",
    "for label in labels:\n",
    "    path = os.path.join(image_path, label)\n",
    "    if not os.path.exists(path):\n",
    "        !mkdir {path}\n",
    "        "
   ]
  },
  {
   "cell_type": "code",
   "execution_count": 9,
   "metadata": {},
   "outputs": [
    {
     "name": "stdout",
     "output_type": "stream",
     "text": [
      "Collecting images for LI_CHIH_HSUAN\n",
      "Collecting image 0\n",
      "Collecting image 1\n",
      "Collecting image 2\n",
      "Collecting image 3\n",
      "Collecting image 4\n"
     ]
    }
   ],
   "source": [
    "#拍自己\n",
    "cap = cv2.VideoCapture(0)\n",
    "print('Collecting images for {}'.format('LI_CHIH_HSUAN'))\n",
    "time.sleep(3)\n",
    "for imgnum in range(number_imgs):\n",
    "    print('Collecting image {}'.format(imgnum))\n",
    "    ret, frame = cap.read()\n",
    "    imgname = os.path.join(image_path,'LI_CHIH_HSUAN','LI_CHIH_HSUAN'+'.'+'{}.jpg'.format(str(uuid.uuid1())))\n",
    "    cv2.imwrite(imgname, frame)\n",
    "    cv2.imshow('frame', frame)\n",
    "    time.sleep(2)\n",
    "\n",
    "    if cv2.waitKey(1) & 0xFF == ord('q'):\n",
    "        break\n",
    "cap.release()\n",
    "cv2.destroyAllWindows()"
   ]
  },
  {
   "cell_type": "code",
   "execution_count": 4,
   "metadata": {},
   "outputs": [],
   "source": [
    "path = os.path.join('Tensorflow', 'labeling')"
   ]
  },
  {
   "cell_type": "code",
   "execution_count": 7,
   "metadata": {},
   "outputs": [],
   "source": [
    "if not os.path.exists(path):\n",
    "    !mkdir {path}\n",
    "    !git clone https://github.com/tzutalin/labelImg {path}"
   ]
  },
  {
   "cell_type": "code",
   "execution_count": 5,
   "metadata": {},
   "outputs": [],
   "source": [
    "!cd {path} && pyrcc5 -o libs/resources.py resources.qrc"
   ]
  },
  {
   "cell_type": "code",
   "execution_count": 6,
   "metadata": {},
   "outputs": [
    {
     "name": "stdout",
     "output_type": "stream",
     "text": [
      "Image:C:\\Users\\Tim\\tensorflow object detection\\TFODCourse\\Tensorflow\\workspace\\images\\collectedimages\\LI_CHIH_HSUAN\\LI_CHIH_HSUAN.8a2aa69a-8e43-11ec-8f61-3c7c3f1adcce.jpg -> Annotation:C:/Users/Tim/tensorflow object detection/TFODCourse/Tensorflow/workspace/images/collectedimages/LI_CHIH_HSUAN/LI_CHIH_HSUAN.8a2aa69a-8e43-11ec-8f61-3c7c3f1adcce.xml\n",
      "Image:C:\\Users\\Tim\\tensorflow object detection\\TFODCourse\\Tensorflow\\workspace\\images\\collectedimages\\LI_CHIH_HSUAN\\LI_CHIH_HSUAN.8b697a54-8e43-11ec-825d-3c7c3f1adcce.jpg -> Annotation:C:/Users/Tim/tensorflow object detection/TFODCourse/Tensorflow/workspace/images/collectedimages/LI_CHIH_HSUAN/LI_CHIH_HSUAN.8b697a54-8e43-11ec-825d-3c7c3f1adcce.xml\n",
      "Image:C:\\Users\\Tim\\tensorflow object detection\\TFODCourse\\Tensorflow\\workspace\\images\\collectedimages\\LI_CHIH_HSUAN\\LI_CHIH_HSUAN.8ca13288-8e43-11ec-bc68-3c7c3f1adcce.jpg -> Annotation:C:/Users/Tim/tensorflow object detection/TFODCourse/Tensorflow/workspace/images/collectedimages/LI_CHIH_HSUAN/LI_CHIH_HSUAN.8ca13288-8e43-11ec-bc68-3c7c3f1adcce.xml\n",
      "Image:C:\\Users\\Tim\\tensorflow object detection\\TFODCourse\\Tensorflow\\workspace\\images\\collectedimages\\LI_CHIH_HSUAN\\LI_CHIH_HSUAN.8dd6ceac-8e43-11ec-a5bc-3c7c3f1adcce.jpg -> Annotation:C:/Users/Tim/tensorflow object detection/TFODCourse/Tensorflow/workspace/images/collectedimages/LI_CHIH_HSUAN/LI_CHIH_HSUAN.8dd6ceac-8e43-11ec-a5bc-3c7c3f1adcce.xml\n",
      "Image:C:\\Users\\Tim\\tensorflow object detection\\TFODCourse\\Tensorflow\\workspace\\images\\collectedimages\\LI_CHIH_HSUAN\\LI_CHIH_HSUAN.8f0dbac9-8e43-11ec-920c-3c7c3f1adcce.jpg -> Annotation:C:/Users/Tim/tensorflow object detection/TFODCourse/Tensorflow/workspace/images/collectedimages/LI_CHIH_HSUAN/LI_CHIH_HSUAN.8f0dbac9-8e43-11ec-920c-3c7c3f1adcce.xml\n",
      "Image:C:\\Users\\Tim\\tensorflow object detection\\TFODCourse\\Tensorflow\\workspace\\images\\collectedimages\\LI_CHIH_HSUAN\\LI_CHIH_HSUAN.bc29b0ec-8e43-11ec-b578-3c7c3f1adcce.jpg -> Annotation:C:/Users/Tim/tensorflow object detection/TFODCourse/Tensorflow/workspace/images/collectedimages/LI_CHIH_HSUAN/LI_CHIH_HSUAN.bc29b0ec-8e43-11ec-b578-3c7c3f1adcce.xml\n",
      "Image:C:\\Users\\Tim\\tensorflow object detection\\TFODCourse\\Tensorflow\\workspace\\images\\collectedimages\\LI_CHIH_HSUAN\\LI_CHIH_HSUAN.bd687fae-8e43-11ec-9ce4-3c7c3f1adcce.jpg -> Annotation:C:/Users/Tim/tensorflow object detection/TFODCourse/Tensorflow/workspace/images/collectedimages/LI_CHIH_HSUAN/LI_CHIH_HSUAN.bd687fae-8e43-11ec-9ce4-3c7c3f1adcce.xml\n",
      "Image:C:\\Users\\Tim\\tensorflow object detection\\TFODCourse\\Tensorflow\\workspace\\images\\collectedimages\\LI_CHIH_HSUAN\\LI_CHIH_HSUAN.bea3b938-8e43-11ec-aa06-3c7c3f1adcce.jpg -> Annotation:C:/Users/Tim/tensorflow object detection/TFODCourse/Tensorflow/workspace/images/collectedimages/LI_CHIH_HSUAN/LI_CHIH_HSUAN.bea3b938-8e43-11ec-aa06-3c7c3f1adcce.xml\n",
      "Image:C:\\Users\\Tim\\tensorflow object detection\\TFODCourse\\Tensorflow\\workspace\\images\\collectedimages\\LI_CHIH_HSUAN\\LI_CHIH_HSUAN.bfd8d023-8e43-11ec-8b45-3c7c3f1adcce.jpg -> Annotation:C:/Users/Tim/tensorflow object detection/TFODCourse/Tensorflow/workspace/images/collectedimages/LI_CHIH_HSUAN/LI_CHIH_HSUAN.bfd8d023-8e43-11ec-8b45-3c7c3f1adcce.xml\n",
      "Image:C:\\Users\\Tim\\tensorflow object detection\\TFODCourse\\Tensorflow\\workspace\\images\\collectedimages\\LI_CHIH_HSUAN\\LI_CHIH_HSUAN.c10d8cf5-8e43-11ec-8045-3c7c3f1adcce.jpg -> Annotation:C:/Users/Tim/tensorflow object detection/TFODCourse/Tensorflow/workspace/images/collectedimages/LI_CHIH_HSUAN/LI_CHIH_HSUAN.c10d8cf5-8e43-11ec-8045-3c7c3f1adcce.xml\n",
      "Image:C:\\Users\\Tim\\tensorflow object detection\\TFODCourse\\Tensorflow\\workspace\\images\\collectedimages\\LI_CHIH_HSUAN\\LI_CHIH_HSUAN.cc84aef2-8e43-11ec-8185-3c7c3f1adcce.jpg -> Annotation:C:/Users/Tim/tensorflow object detection/TFODCourse/Tensorflow/workspace/images/collectedimages/LI_CHIH_HSUAN/LI_CHIH_HSUAN.cc84aef2-8e43-11ec-8185-3c7c3f1adcce.xml\n",
      "Image:C:\\Users\\Tim\\tensorflow object detection\\TFODCourse\\Tensorflow\\workspace\\images\\collectedimages\\LI_CHIH_HSUAN\\LI_CHIH_HSUAN.cdb9c0c9-8e43-11ec-a8aa-3c7c3f1adcce.jpg -> Annotation:C:/Users/Tim/tensorflow object detection/TFODCourse/Tensorflow/workspace/images/collectedimages/LI_CHIH_HSUAN/LI_CHIH_HSUAN.cdb9c0c9-8e43-11ec-a8aa-3c7c3f1adcce.xml\n",
      "Image:C:\\Users\\Tim\\tensorflow object detection\\TFODCourse\\Tensorflow\\workspace\\images\\collectedimages\\LI_CHIH_HSUAN\\LI_CHIH_HSUAN.ceed8586-8e43-11ec-99d5-3c7c3f1adcce.jpg -> Annotation:C:/Users/Tim/tensorflow object detection/TFODCourse/Tensorflow/workspace/images/collectedimages/LI_CHIH_HSUAN/LI_CHIH_HSUAN.ceed8586-8e43-11ec-99d5-3c7c3f1adcce.xml\n",
      "Image:C:\\Users\\Tim\\tensorflow object detection\\TFODCourse\\Tensorflow\\workspace\\images\\collectedimages\\LI_CHIH_HSUAN\\LI_CHIH_HSUAN.d15bdc50-8e43-11ec-be05-3c7c3f1adcce.jpg -> Annotation:C:/Users/Tim/tensorflow object detection/TFODCourse/Tensorflow/workspace/images/collectedimages/LI_CHIH_HSUAN/LI_CHIH_HSUAN.d15bdc50-8e43-11ec-be05-3c7c3f1adcce.xml\n",
      "Image:C:\\Users\\Tim\\tensorflow object detection\\TFODCourse\\Tensorflow\\workspace\\images\\collectedimages\\LI_CHIH_HSUAN\\LI_CHIH_HSUAN.d0261471-8e43-11ec-8fc8-3c7c3f1adcce.jpg -> Annotation:C:/Users/Tim/tensorflow object detection/TFODCourse/Tensorflow/workspace/images/collectedimages/LI_CHIH_HSUAN/LI_CHIH_HSUAN.d0261471-8e43-11ec-8fc8-3c7c3f1adcce.xml\n",
      "Image:C:\\Users\\Tim\\tensorflow object detection\\TFODCourse\\Tensorflow\\workspace\\images\\collectedimages\\LI_CHIH_HSUAN\\LI_CHIH_HSUAN.f2fb56c5-8e43-11ec-b1df-3c7c3f1adcce.jpg -> Annotation:C:/Users/Tim/tensorflow object detection/TFODCourse/Tensorflow/workspace/images/collectedimages/LI_CHIH_HSUAN/LI_CHIH_HSUAN.f2fb56c5-8e43-11ec-b1df-3c7c3f1adcce.xml\n",
      "Image:C:\\Users\\Tim\\tensorflow object detection\\TFODCourse\\Tensorflow\\workspace\\images\\collectedimages\\LI_CHIH_HSUAN\\LI_CHIH_HSUAN.f7d3eaa4-8e43-11ec-945b-3c7c3f1adcce.jpg -> Annotation:C:/Users/Tim/tensorflow object detection/TFODCourse/Tensorflow/workspace/images/collectedimages/LI_CHIH_HSUAN/LI_CHIH_HSUAN.f7d3eaa4-8e43-11ec-945b-3c7c3f1adcce.xml\n",
      "Image:C:\\Users\\Tim\\tensorflow object detection\\TFODCourse\\Tensorflow\\workspace\\images\\collectedimages\\LI_CHIH_HSUAN\\LI_CHIH_HSUAN.f69ea63a-8e43-11ec-a1bc-3c7c3f1adcce.jpg -> Annotation:C:/Users/Tim/tensorflow object detection/TFODCourse/Tensorflow/workspace/images/collectedimages/LI_CHIH_HSUAN/LI_CHIH_HSUAN.f69ea63a-8e43-11ec-a1bc-3c7c3f1adcce.xml\n",
      "Image:C:\\Users\\Tim\\tensorflow object detection\\TFODCourse\\Tensorflow\\workspace\\images\\collectedimages\\LI_CHIH_HSUAN\\LI_CHIH_HSUAN.f56826dd-8e43-11ec-9bef-3c7c3f1adcce.jpg -> Annotation:C:/Users/Tim/tensorflow object detection/TFODCourse/Tensorflow/workspace/images/collectedimages/LI_CHIH_HSUAN/LI_CHIH_HSUAN.f56826dd-8e43-11ec-9bef-3c7c3f1adcce.xml\n",
      "Image:C:\\Users\\Tim\\tensorflow object detection\\TFODCourse\\Tensorflow\\workspace\\images\\collectedimages\\LI_CHIH_HSUAN\\LI_CHIH_HSUAN.f4322166-8e43-11ec-ae90-3c7c3f1adcce.jpg -> Annotation:C:/Users/Tim/tensorflow object detection/TFODCourse/Tensorflow/workspace/images/collectedimages/LI_CHIH_HSUAN/LI_CHIH_HSUAN.f4322166-8e43-11ec-ae90-3c7c3f1adcce.xml\n",
      "Image:C:\\Users\\Tim\\tensorflow object detection\\TFODCourse\\Tensorflow\\workspace\\images\\collectedimages\\Saitou_Asuka\\dododosarada_Bl9NGsrDdU-.jpg -> Annotation:C:/Users/Tim/tensorflow object detection/TFODCourse/Tensorflow/workspace/images/collectedimages/Saitou_Asuka/dododosarada_Bl9NGsrDdU-.xml\n",
      "Image:C:\\Users\\Tim\\tensorflow object detection\\TFODCourse\\Tensorflow\\workspace\\images\\collectedimages\\Saitou_Asuka\\dododosarada_BleKYNvD4Uh.jpg -> Annotation:C:/Users/Tim/tensorflow object detection/TFODCourse/Tensorflow/workspace/images/collectedimages/Saitou_Asuka/dododosarada_BleKYNvD4Uh.xml\n",
      "Image:C:\\Users\\Tim\\tensorflow object detection\\TFODCourse\\Tensorflow\\workspace\\images\\collectedimages\\Saitou_Asuka\\FB_IMG_1530936759425.jpg -> Annotation:C:/Users/Tim/tensorflow object detection/TFODCourse/Tensorflow/workspace/images/collectedimages/Saitou_Asuka/FB_IMG_1530936759425.xml\n",
      "Image:C:\\Users\\Tim\\tensorflow object detection\\TFODCourse\\Tensorflow\\workspace\\images\\collectedimages\\Saitou_Asuka\\FB_IMG_1530951884848.jpg -> Annotation:C:/Users/Tim/tensorflow object detection/TFODCourse/Tensorflow/workspace/images/collectedimages/Saitou_Asuka/FB_IMG_1530951884848.xml\n",
      "Image:C:\\Users\\Tim\\tensorflow object detection\\TFODCourse\\Tensorflow\\workspace\\images\\collectedimages\\Saitou_Asuka\\FB_IMG_1530954603957.jpg -> Annotation:C:/Users/Tim/tensorflow object detection/TFODCourse/Tensorflow/workspace/images/collectedimages/Saitou_Asuka/FB_IMG_1530954603957.xml\n",
      "Cancel creation.\n",
      "Image:C:\\Users\\Tim\\tensorflow object detection\\TFODCourse\\Tensorflow\\workspace\\images\\collectedimages\\Saitou_Asuka\\FB_IMG_1530954612928.jpg -> Annotation:C:/Users/Tim/tensorflow object detection/TFODCourse/Tensorflow/workspace/images/collectedimages/Saitou_Asuka/FB_IMG_1530954612928.xml\n",
      "Image:C:\\Users\\Tim\\tensorflow object detection\\TFODCourse\\Tensorflow\\workspace\\images\\collectedimages\\Saitou_Asuka\\FB_IMG_1531432421944.jpg -> Annotation:C:/Users/Tim/tensorflow object detection/TFODCourse/Tensorflow/workspace/images/collectedimages/Saitou_Asuka/FB_IMG_1531432421944.xml\n",
      "Cancel creation.\n",
      "Image:C:\\Users\\Tim\\tensorflow object detection\\TFODCourse\\Tensorflow\\workspace\\images\\collectedimages\\Saitou_Asuka\\FB_IMG_1531797288805.jpg -> Annotation:C:/Users/Tim/tensorflow object detection/TFODCourse/Tensorflow/workspace/images/collectedimages/Saitou_Asuka/FB_IMG_1531797288805.xml\n",
      "Image:C:\\Users\\Tim\\tensorflow object detection\\TFODCourse\\Tensorflow\\workspace\\images\\collectedimages\\Saitou_Asuka\\FB_IMG_1532010808100.jpg -> Annotation:C:/Users/Tim/tensorflow object detection/TFODCourse/Tensorflow/workspace/images/collectedimages/Saitou_Asuka/FB_IMG_1532010808100.xml\n",
      "Image:C:\\Users\\Tim\\tensorflow object detection\\TFODCourse\\Tensorflow\\workspace\\images\\collectedimages\\Saitou_Asuka\\FB_IMG_1532010822794.jpg -> Annotation:C:/Users/Tim/tensorflow object detection/TFODCourse/Tensorflow/workspace/images/collectedimages/Saitou_Asuka/FB_IMG_1532010822794.xml\n",
      "Image:C:\\Users\\Tim\\tensorflow object detection\\TFODCourse\\Tensorflow\\workspace\\images\\collectedimages\\Saitou_Asuka\\FB_IMG_1532147979675.jpg -> Annotation:C:/Users/Tim/tensorflow object detection/TFODCourse/Tensorflow/workspace/images/collectedimages/Saitou_Asuka/FB_IMG_1532147979675.xml\n",
      "Image:C:\\Users\\Tim\\tensorflow object detection\\TFODCourse\\Tensorflow\\workspace\\images\\collectedimages\\Saitou_Asuka\\FB_IMG_1532664172202.jpg -> Annotation:C:/Users/Tim/tensorflow object detection/TFODCourse/Tensorflow/workspace/images/collectedimages/Saitou_Asuka/FB_IMG_1532664172202.xml\n",
      "Image:C:\\Users\\Tim\\tensorflow object detection\\TFODCourse\\Tensorflow\\workspace\\images\\collectedimages\\Saitou_Asuka\\FB_IMG_1533958092695.jpg -> Annotation:C:/Users/Tim/tensorflow object detection/TFODCourse/Tensorflow/workspace/images/collectedimages/Saitou_Asuka/FB_IMG_1533958092695.xml\n",
      "Image:C:\\Users\\Tim\\tensorflow object detection\\TFODCourse\\Tensorflow\\workspace\\images\\collectedimages\\Saitou_Asuka\\IMG_20180808_142059.jpg -> Annotation:C:/Users/Tim/tensorflow object detection/TFODCourse/Tensorflow/workspace/images/collectedimages/Saitou_Asuka/IMG_20180808_142059.xml\n",
      "Image:C:\\Users\\Tim\\tensorflow object detection\\TFODCourse\\Tensorflow\\workspace\\images\\collectedimages\\Saitou_Asuka\\nogi_keyaki_46_love_BmA0SzpgdKA.jpg -> Annotation:C:/Users/Tim/tensorflow object detection/TFODCourse/Tensorflow/workspace/images/collectedimages/Saitou_Asuka/nogi_keyaki_46_love_BmA0SzpgdKA.xml\n",
      "Image:C:\\Users\\Tim\\tensorflow object detection\\TFODCourse\\Tensorflow\\workspace\\images\\collectedimages\\Saitou_Asuka\\nogima211_BlcARDunSFf.jpg -> Annotation:C:/Users/Tim/tensorflow object detection/TFODCourse/Tensorflow/workspace/images/collectedimages/Saitou_Asuka/nogima211_BlcARDunSFf.xml\n",
      "Image:C:\\Users\\Tim\\tensorflow object detection\\TFODCourse\\Tensorflow\\workspace\\images\\collectedimages\\Saitou_Asuka\\nogima211_BlYGJ7KH0EE.jpg -> Annotation:C:/Users/Tim/tensorflow object detection/TFODCourse/Tensorflow/workspace/images/collectedimages/Saitou_Asuka/nogima211_BlYGJ7KH0EE.xml\n",
      "Image:C:\\Users\\Tim\\tensorflow object detection\\TFODCourse\\Tensorflow\\workspace\\images\\collectedimages\\Saitou_Asuka\\received_513728995716743.jpeg -> Annotation:C:/Users/Tim/tensorflow object detection/TFODCourse/Tensorflow/workspace/images/collectedimages/Saitou_Asuka/received_513728995716743.xml\n",
      "Image:C:\\Users\\Tim\\tensorflow object detection\\TFODCourse\\Tensorflow\\workspace\\images\\collectedimages\\Saitou_Asuka\\received_1074977889307228.jpeg -> Annotation:C:/Users/Tim/tensorflow object detection/TFODCourse/Tensorflow/workspace/images/collectedimages/Saitou_Asuka/received_1074977889307228.xml\n",
      "Image:C:\\Users\\Tim\\tensorflow object detection\\TFODCourse\\Tensorflow\\workspace\\images\\collectedimages\\Saitou_Asuka\\received_1101619326643084.jpeg -> Annotation:C:/Users/Tim/tensorflow object detection/TFODCourse/Tensorflow/workspace/images/collectedimages/Saitou_Asuka/received_1101619326643084.xml\n",
      "Image:C:\\Users\\Tim\\tensorflow object detection\\TFODCourse\\Tensorflow\\workspace\\images\\collectedimages\\nishino_nanase\\46don1204_Bmdtq2RHqvA.jpg -> Annotation:C:/Users/Tim/tensorflow object detection/TFODCourse/Tensorflow/workspace/images/collectedimages/nishino_nanase/46don1204_Bmdtq2RHqvA.xml\n",
      "Image:C:\\Users\\Tim\\tensorflow object detection\\TFODCourse\\Tensorflow\\workspace\\images\\collectedimages\\nishino_nanase\\46don1204_Bmdtq2znwuW.jpg -> Annotation:C:/Users/Tim/tensorflow object detection/TFODCourse/Tensorflow/workspace/images/collectedimages/nishino_nanase/46don1204_Bmdtq2znwuW.xml\n",
      "Image:C:\\Users\\Tim\\tensorflow object detection\\TFODCourse\\Tensorflow\\workspace\\images\\collectedimages\\nishino_nanase\\46don1204_Bmdtq3MnwG4.jpg -> Annotation:C:/Users/Tim/tensorflow object detection/TFODCourse/Tensorflow/workspace/images/collectedimages/nishino_nanase/46don1204_Bmdtq3MnwG4.xml\n",
      "Image:C:\\Users\\Tim\\tensorflow object detection\\TFODCourse\\Tensorflow\\workspace\\images\\collectedimages\\nishino_nanase\\46don1204_Bmdtqm_HB_P.jpg -> Annotation:C:/Users/Tim/tensorflow object detection/TFODCourse/Tensorflow/workspace/images/collectedimages/nishino_nanase/46don1204_Bmdtqm_HB_P.xml\n",
      "Image:C:\\Users\\Tim\\tensorflow object detection\\TFODCourse\\Tensorflow\\workspace\\images\\collectedimages\\nishino_nanase\\46don1204_BmdtqMTHB71.jpg -> Annotation:C:/Users/Tim/tensorflow object detection/TFODCourse/Tensorflow/workspace/images/collectedimages/nishino_nanase/46don1204_BmdtqMTHB71.xml\n",
      "Image:C:\\Users\\Tim\\tensorflow object detection\\TFODCourse\\Tensorflow\\workspace\\images\\collectedimages\\nishino_nanase\\46don1204_BmdtqnynZwm.jpg -> Annotation:C:/Users/Tim/tensorflow object detection/TFODCourse/Tensorflow/workspace/images/collectedimages/nishino_nanase/46don1204_BmdtqnynZwm.xml\n",
      "Image:C:\\Users\\Tim\\tensorflow object detection\\TFODCourse\\Tensorflow\\workspace\\images\\collectedimages\\nishino_nanase\\46don1204_BmdtrD6n7H5.jpg -> Annotation:C:/Users/Tim/tensorflow object detection/TFODCourse/Tensorflow/workspace/images/collectedimages/nishino_nanase/46don1204_BmdtrD6n7H5.xml\n",
      "Image:C:\\Users\\Tim\\tensorflow object detection\\TFODCourse\\Tensorflow\\workspace\\images\\collectedimages\\nishino_nanase\\46don1204_BmdtrEmn9nJ.jpg -> Annotation:C:/Users/Tim/tensorflow object detection/TFODCourse/Tensorflow/workspace/images/collectedimages/nishino_nanase/46don1204_BmdtrEmn9nJ.xml\n",
      "Image:C:\\Users\\Tim\\tensorflow object detection\\TFODCourse\\Tensorflow\\workspace\\images\\collectedimages\\nishino_nanase\\46don1204_BmdtrETnnqt.jpg -> Annotation:C:/Users/Tim/tensorflow object detection/TFODCourse/Tensorflow/workspace/images/collectedimages/nishino_nanase/46don1204_BmdtrETnnqt.xml\n",
      "Image:C:\\Users\\Tim\\tensorflow object detection\\TFODCourse\\Tensorflow\\workspace\\images\\collectedimages\\nishino_nanase\\bacnso4619_BmZPhXVFwPX.jpg -> Annotation:C:/Users/Tim/tensorflow object detection/TFODCourse/Tensorflow/workspace/images/collectedimages/nishino_nanase/bacnso4619_BmZPhXVFwPX.xml\n",
      "Image:C:\\Users\\Tim\\tensorflow object detection\\TFODCourse\\Tensorflow\\workspace\\images\\collectedimages\\nishino_nanase\\doiyasaan25_BmSttRoAiAA.jpg -> Annotation:C:/Users/Tim/tensorflow object detection/TFODCourse/Tensorflow/workspace/images/collectedimages/nishino_nanase/doiyasaan25_BmSttRoAiAA.xml\n",
      "Image:C:\\Users\\Tim\\tensorflow object detection\\TFODCourse\\Tensorflow\\workspace\\images\\collectedimages\\nishino_nanase\\FB_IMG_1531750360418.jpg -> Annotation:C:/Users/Tim/tensorflow object detection/TFODCourse/Tensorflow/workspace/images/collectedimages/nishino_nanase/FB_IMG_1531750360418.xml\n",
      "Image:C:\\Users\\Tim\\tensorflow object detection\\TFODCourse\\Tensorflow\\workspace\\images\\collectedimages\\nishino_nanase\\FB_IMG_1531750362613.jpg -> Annotation:C:/Users/Tim/tensorflow object detection/TFODCourse/Tensorflow/workspace/images/collectedimages/nishino_nanase/FB_IMG_1531750362613.xml\n",
      "Image:C:\\Users\\Tim\\tensorflow object detection\\TFODCourse\\Tensorflow\\workspace\\images\\collectedimages\\nishino_nanase\\mainana773_BmLFDrsBS2D.jpg -> Annotation:C:/Users/Tim/tensorflow object detection/TFODCourse/Tensorflow/workspace/images/collectedimages/nishino_nanase/mainana773_BmLFDrsBS2D.xml\n",
      "Image:C:\\Users\\Tim\\tensorflow object detection\\TFODCourse\\Tensorflow\\workspace\\images\\collectedimages\\nishino_nanase\\nogi_keyaki_46_love_BmF1yPXAx8Z.jpg -> Annotation:C:/Users/Tim/tensorflow object detection/TFODCourse/Tensorflow/workspace/images/collectedimages/nishino_nanase/nogi_keyaki_46_love_BmF1yPXAx8Z.xml\n",
      "Image:C:\\Users\\Tim\\tensorflow object detection\\TFODCourse\\Tensorflow\\workspace\\images\\collectedimages\\nishino_nanase\\nogi_keyaki_46_love_BmXQkRCAADz.jpg -> Annotation:C:/Users/Tim/tensorflow object detection/TFODCourse/Tensorflow/workspace/images/collectedimages/nishino_nanase/nogi_keyaki_46_love_BmXQkRCAADz.xml\n",
      "Image:C:\\Users\\Tim\\tensorflow object detection\\TFODCourse\\Tensorflow\\workspace\\images\\collectedimages\\nishino_nanase\\nogi_keyaki_46_love_BmXQkWYgLXT.jpg -> Annotation:C:/Users/Tim/tensorflow object detection/TFODCourse/Tensorflow/workspace/images/collectedimages/nishino_nanase/nogi_keyaki_46_love_BmXQkWYgLXT.xml\n",
      "Image:C:\\Users\\Tim\\tensorflow object detection\\TFODCourse\\Tensorflow\\workspace\\images\\collectedimages\\nishino_nanase\\nogi_keyaki_46_love_BmXQkX5A-Fc.jpg -> Annotation:C:/Users/Tim/tensorflow object detection/TFODCourse/Tensorflow/workspace/images/collectedimages/nishino_nanase/nogi_keyaki_46_love_BmXQkX5A-Fc.xml\n",
      "Image:C:\\Users\\Tim\\tensorflow object detection\\TFODCourse\\Tensorflow\\workspace\\images\\collectedimages\\nishino_nanase\\nogi_keyaki_46_love_BmXQkYrgGul.jpg -> Annotation:C:/Users/Tim/tensorflow object detection/TFODCourse/Tensorflow/workspace/images/collectedimages/nishino_nanase/nogi_keyaki_46_love_BmXQkYrgGul.xml\n",
      "Image:C:\\Users\\Tim\\tensorflow object detection\\TFODCourse\\Tensorflow\\workspace\\images\\collectedimages\\nishino_nanase\\nogizaka_nanase25_BmfoM7Cl3Xo.jpg -> Annotation:C:/Users/Tim/tensorflow object detection/TFODCourse/Tensorflow/workspace/images/collectedimages/nishino_nanase/nogizaka_nanase25_BmfoM7Cl3Xo.xml\n",
      "Image:C:\\Users\\Tim\\tensorflow object detection\\TFODCourse\\Tensorflow\\workspace\\images\\collectedimages\\hori_miona\\0000.jpeg -> Annotation:C:/Users/Tim/tensorflow object detection/TFODCourse/Tensorflow/workspace/images/collectedimages/hori_miona/0000.xml\n",
      "Image:C:\\Users\\Tim\\tensorflow object detection\\TFODCourse\\Tensorflow\\workspace\\images\\collectedimages\\hori_miona\\0001.jpeg -> Annotation:C:/Users/Tim/tensorflow object detection/TFODCourse/Tensorflow/workspace/images/collectedimages/hori_miona/0001.xml\n",
      "Image:C:\\Users\\Tim\\tensorflow object detection\\TFODCourse\\Tensorflow\\workspace\\images\\collectedimages\\hori_miona\\0002.jpeg -> Annotation:C:/Users/Tim/tensorflow object detection/TFODCourse/Tensorflow/workspace/images/collectedimages/hori_miona/0002.xml\n",
      "Image:C:\\Users\\Tim\\tensorflow object detection\\TFODCourse\\Tensorflow\\workspace\\images\\collectedimages\\hori_miona\\0003 (1).jpeg -> Annotation:C:/Users/Tim/tensorflow object detection/TFODCourse/Tensorflow/workspace/images/collectedimages/hori_miona/0003 (1).xml\n",
      "Image:C:\\Users\\Tim\\tensorflow object detection\\TFODCourse\\Tensorflow\\workspace\\images\\collectedimages\\hori_miona\\1529556935697.jpg -> Annotation:C:/Users/Tim/tensorflow object detection/TFODCourse/Tensorflow/workspace/images/collectedimages/hori_miona/1529556935697.xml\n",
      "Image:C:\\Users\\Tim\\tensorflow object detection\\TFODCourse\\Tensorflow\\workspace\\images\\collectedimages\\hori_miona\\1529556940850.jpg -> Annotation:C:/Users/Tim/tensorflow object detection/TFODCourse/Tensorflow/workspace/images/collectedimages/hori_miona/1529556940850.xml\n",
      "Image:C:\\Users\\Tim\\tensorflow object detection\\TFODCourse\\Tensorflow\\workspace\\images\\collectedimages\\hori_miona\\1529556942104.jpg -> Annotation:C:/Users/Tim/tensorflow object detection/TFODCourse/Tensorflow/workspace/images/collectedimages/hori_miona/1529556942104.xml\n",
      "Image:C:\\Users\\Tim\\tensorflow object detection\\TFODCourse\\Tensorflow\\workspace\\images\\collectedimages\\hori_miona\\1529556994924.jpg -> Annotation:C:/Users/Tim/tensorflow object detection/TFODCourse/Tensorflow/workspace/images/collectedimages/hori_miona/1529556994924.xml\n",
      "Image:C:\\Users\\Tim\\tensorflow object detection\\TFODCourse\\Tensorflow\\workspace\\images\\collectedimages\\hori_miona\\1529557011608.jpg -> Annotation:C:/Users/Tim/tensorflow object detection/TFODCourse/Tensorflow/workspace/images/collectedimages/hori_miona/1529557011608.xml\n",
      "Image:C:\\Users\\Tim\\tensorflow object detection\\TFODCourse\\Tensorflow\\workspace\\images\\collectedimages\\hori_miona\\1529557013419.jpg -> Annotation:C:/Users/Tim/tensorflow object detection/TFODCourse/Tensorflow/workspace/images/collectedimages/hori_miona/1529557013419.xml\n",
      "Image:C:\\Users\\Tim\\tensorflow object detection\\TFODCourse\\Tensorflow\\workspace\\images\\collectedimages\\hori_miona\\1529557031340.jpg -> Annotation:C:/Users/Tim/tensorflow object detection/TFODCourse/Tensorflow/workspace/images/collectedimages/hori_miona/1529557031340.xml\n",
      "Image:C:\\Users\\Tim\\tensorflow object detection\\TFODCourse\\Tensorflow\\workspace\\images\\collectedimages\\hori_miona\\1529557032419.jpg -> Annotation:C:/Users/Tim/tensorflow object detection/TFODCourse/Tensorflow/workspace/images/collectedimages/hori_miona/1529557032419.xml\n",
      "Image:C:\\Users\\Tim\\tensorflow object detection\\TFODCourse\\Tensorflow\\workspace\\images\\collectedimages\\hori_miona\\1529557040298.jpg -> Annotation:C:/Users/Tim/tensorflow object detection/TFODCourse/Tensorflow/workspace/images/collectedimages/hori_miona/1529557040298.xml\n",
      "Image:C:\\Users\\Tim\\tensorflow object detection\\TFODCourse\\Tensorflow\\workspace\\images\\collectedimages\\hori_miona\\1529557042715.jpg -> Annotation:C:/Users/Tim/tensorflow object detection/TFODCourse/Tensorflow/workspace/images/collectedimages/hori_miona/1529557042715.xml\n",
      "Image:C:\\Users\\Tim\\tensorflow object detection\\TFODCourse\\Tensorflow\\workspace\\images\\collectedimages\\hori_miona\\1529557046466.jpg -> Annotation:C:/Users/Tim/tensorflow object detection/TFODCourse/Tensorflow/workspace/images/collectedimages/hori_miona/1529557046466.xml\n",
      "Image:C:\\Users\\Tim\\tensorflow object detection\\TFODCourse\\Tensorflow\\workspace\\images\\collectedimages\\hori_miona\\1529557050421.jpg -> Annotation:C:/Users/Tim/tensorflow object detection/TFODCourse/Tensorflow/workspace/images/collectedimages/hori_miona/1529557050421.xml\n",
      "Image:C:\\Users\\Tim\\tensorflow object detection\\TFODCourse\\Tensorflow\\workspace\\images\\collectedimages\\hori_miona\\IMG_20180621_170607.jpg -> Annotation:C:/Users/Tim/tensorflow object detection/TFODCourse/Tensorflow/workspace/images/collectedimages/hori_miona/IMG_20180621_170607.xml\n",
      "Image:C:\\Users\\Tim\\tensorflow object detection\\TFODCourse\\Tensorflow\\workspace\\images\\collectedimages\\hori_miona\\IMG_20180626_180140.jpg -> Annotation:C:/Users/Tim/tensorflow object detection/TFODCourse/Tensorflow/workspace/images/collectedimages/hori_miona/IMG_20180626_180140.xml\n",
      "Image:C:\\Users\\Tim\\tensorflow object detection\\TFODCourse\\Tensorflow\\workspace\\images\\collectedimages\\hori_miona\\IMG_20180724_230012.jpg -> Annotation:C:/Users/Tim/tensorflow object detection/TFODCourse/Tensorflow/workspace/images/collectedimages/hori_miona/IMG_20180724_230012.xml\n",
      "Image:C:\\Users\\Tim\\tensorflow object detection\\TFODCourse\\Tensorflow\\workspace\\images\\collectedimages\\hori_miona\\received_1101619316643085.jpeg -> Annotation:C:/Users/Tim/tensorflow object detection/TFODCourse/Tensorflow/workspace/images/collectedimages/hori_miona/received_1101619316643085.xml\n"
     ]
    }
   ],
   "source": [
    "!cd {path} && python labelImg.py"
   ]
  }
 ],
 "metadata": {
  "kernelspec": {
   "display_name": "tfod",
   "language": "python",
   "name": "tfod"
  },
  "language_info": {
   "codemirror_mode": {
    "name": "ipython",
    "version": 3
   },
   "file_extension": ".py",
   "mimetype": "text/x-python",
   "name": "python",
   "nbconvert_exporter": "python",
   "pygments_lexer": "ipython3",
   "version": "3.8.8"
  }
 },
 "nbformat": 4,
 "nbformat_minor": 2
}
